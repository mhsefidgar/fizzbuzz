{
  "cells": [
    {
      "cell_type": "markdown",
      "source": [
        "#**Text-to-Text Transfer Transformer Model Deployment Through RESTful API**"
      ],
      "metadata": {
        "id": "O2xH4iFYfkWK"
      }
    },
    {
      "cell_type": "markdown",
      "source": [
        "### In this Notebook, we attempt to send a post request to a running docker compose through a RESTful API post request. The returen from the docker server would be a text generat by t5 model (Text-to-Text Transfer Transformer). The model used was retrived from Huggingface models. Please refer to the following link for further inqueries.\n",
        "\n",
        "https://huggingface.co/t5-small\n"
      ],
      "metadata": {
        "id": "M0FgTJbQdvJo"
      }
    },
    {
      "cell_type": "markdown",
      "source": [
        "## **Following steps are required to run the program.**"
      ],
      "metadata": {
        "id": "1_O4PbRUiA_X"
      }
    },
    {
      "cell_type": "markdown",
      "source": [
        "#### Make sure the docker daemon network can run on the current system. \n",
        "#### There are two tools to run it in windows.\n",
        "\n",
        "1. Docker toolbox.\n",
        "2. Docker Desktop.\n",
        "\n",
        "Note that both tools require Windows 11 or Windows 10 update version 1909. Windows 10 update 1809 and below seems not to allow for activation of the \"windows subsystem for Linux\" feature.  \n"
      ],
      "metadata": {
        "id": "hj_KsjT2jHAs"
      }
    },
    {
      "cell_type": "markdown",
      "source": [
        "### **Redirect the the command line into the current directory that the files are located.** \n",
        "\n",
        "### Note that OS that both docker compose and RESTful API request was sent is Windows. Therefore, calling the command lines may vary depending on the system utilized. **\"%%cmd\"** is used to use windows command line from Notebook environments."
      ],
      "metadata": {
        "id": "IkEzlmb-fhIy"
      }
    },
    {
      "cell_type": "code",
      "execution_count": null,
      "metadata": {
        "id": "QFyjTWDUdqj5",
        "outputId": "d48edcaa-d119-406d-eb9b-ce5b78cc563f"
      },
      "outputs": [
        {
          "name": "stdout",
          "output_type": "stream",
          "text": [
            "Microsoft Windows [Version 10.0.22000.978]\n",
            "(c) Microsoft Corporation. All rights reserved.\n",
            "\n",
            "(envi) c:\\Users\\mhsef\\Projects\\prject1\\app\\app>cd C:\\Users\\mhsef\\Projects\\prject1\n",
            "\n",
            "(envi) C:\\Users\\mhsef\\Projects\\prject1>"
          ]
        }
      ],
      "source": [
        "%%cmd\n",
        "cd C:\\Users\\mhsef\\Projects\\prject1"
      ]
    },
    {
      "cell_type": "markdown",
      "source": [
        "### (Optional) This part may be skipped for those who do not wish to build (following requirements) the docker-compose from scratch."
      ],
      "metadata": {
        "id": "rZTNub2Ji8OE"
      }
    },
    {
      "cell_type": "code",
      "execution_count": null,
      "metadata": {
        "id": "6dcECiKWdqj6"
      },
      "outputs": [],
      "source": [
        "%%capture\n",
        "%%cmd\n",
        "docker volume prune --force\n",
        "docker system prune -af"
      ]
    },
    {
      "cell_type": "markdown",
      "source": [
        "### (Optional) It is recommened to build the Docker compose image befor running it (via \"docker-compose up\")."
      ],
      "metadata": {
        "id": "2LjP_Cdyl8I1"
      }
    },
    {
      "cell_type": "code",
      "execution_count": null,
      "metadata": {
        "id": "RKz_x3l1dqj7",
        "outputId": "0b68e6a5-5068-4256-9c31-120739712b6f"
      },
      "outputs": [
        {
          "name": "stdout",
          "output_type": "stream",
          "text": [
            "Microsoft Windows [Version 10.0.22000.978]\n",
            "(c) Microsoft Corporation. All rights reserved.\n",
            "\n",
            "(envi) c:\\Users\\mhsef\\Projects\\prject1\\app\\app>docker-compose build\n",
            "#1 [internal] load build definition from Dockerfile\n",
            "#1 transferring dockerfile: 703B done\n",
            "#1 DONE 0.0s\n",
            "\n",
            "#2 [internal] load .dockerignore\n",
            "#2 transferring context: 2B done\n",
            "#2 DONE 0.0s\n",
            "\n",
            "#3 [internal] load metadata for docker.io/library/python:3.8-slim-buster\n",
            "#3 DONE 1.6s\n",
            "\n",
            "#4 [ 1/11] FROM docker.io/library/python:3.8-slim-buster@sha256:8950916b06e83a260135f49e77aef6b2019c7f5c7a8ffb74a059a123e5ca1623\n",
            "#4 resolve docker.io/library/python:3.8-slim-buster@sha256:8950916b06e83a260135f49e77aef6b2019c7f5c7a8ffb74a059a123e5ca1623 0.0s done\n",
            "#4 sha256:8950916b06e83a260135f49e77aef6b2019c7f5c7a8ffb74a059a123e5ca1623 988B / 988B done\n",
            "#4 sha256:86d796197df4b48bdc902db697aa9cb6d312cd2a0dafbf97c1f17ed062db4ad2 1.37kB / 1.37kB done\n",
            "#4 sha256:58af6d26aa5ace4c22affe5102fc57ba064df2117a5a7db200d113efe72a6fcc 7.53kB / 7.53kB done\n",
            "#4 DONE 0.3s\n",
            "\n",
            "#5 [internal] load build context\n",
            "#5 ...\n",
            "\n",
            "#6 [ 2/11] WORKDIR /app\n",
            "#6 DONE 0.1s\n",
            "\n",
            "#5 [internal] load build context\n",
            "#5 transferring context: 240.51MB 3.3s\n",
            "#5 ...\n",
            "\n",
            "#7 [ 3/11] RUN apt-get update\n",
            "#0 0.873 Get:1 http://deb.debian.org/debian buster InRelease [122 kB]\n",
            "#0 0.940 Get:2 http://deb.debian.org/debian-security buster/updates InRelease [34.8 kB]\n",
            "#0 0.972 Get:3 http://deb.debian.org/debian buster-updates InRelease [56.6 kB]\n",
            "#0 1.126 Get:4 http://deb.debian.org/debian buster/main amd64 Packages [7909 kB]\n",
            "#0 2.528 Get:5 http://deb.debian.org/debian-security buster/updates/main amd64 Packages [366 kB]\n",
            "#0 2.591 Get:6 http://deb.debian.org/debian buster-updates/main amd64 Packages [8788 B]\n",
            "#0 3.892 Fetched 8497 kB in 3s (2719 kB/s)\n",
            "#0 3.892 Reading package lists...\n",
            "#7 DONE 5.2s\n",
            "\n",
            "#5 [internal] load build context\n",
            "#5 ...\n",
            "\n",
            "#8 [ 4/11] RUN apt install -y libgl1-mesa-glx\n",
            "#8 0.825 \n",
            "#8 0.825 WARNING: apt does not have a stable CLI interface. Use with caution in scripts.\n",
            "#8 0.825 \n",
            "#8 0.834 Reading package lists...\n",
            "#8 1.553 Building dependency tree...\n",
            "#8 1.702 Reading state information...\n",
            "#8 1.822 The following additional packages will be installed:\n",
            "#8 1.822   libbsd0 libdrm-amdgpu1 libdrm-common libdrm-intel1 libdrm-nouveau2\n",
            "#8 1.822   libdrm-radeon1 libdrm2 libedit2 libelf1 libgl1 libgl1-mesa-dri libglapi-mesa\n",
            "#8 1.822   libglvnd0 libglx-mesa0 libglx0 libllvm7 libpciaccess0 libsensors-config\n",
            "#8 1.822   libsensors5 libx11-6 libx11-data libx11-xcb1 libxau6 libxcb-dri2-0\n",
            "#8 1.822   libxcb-dri3-0 libxcb-glx0 libxcb-present0 libxcb-sync1 libxcb1 libxdamage1\n",
            "#8 1.823   libxdmcp6 libxext6 libxfixes3 libxshmfence1 libxxf86vm1\n",
            "#8 1.823 Suggested packages:\n",
            "#8 1.823   pciutils lm-sensors\n",
            "#8 1.982 The following NEW packages will be installed:\n",
            "#8 1.982   libbsd0 libdrm-amdgpu1 libdrm-common libdrm-intel1 libdrm-nouveau2\n",
            "#8 1.982   libdrm-radeon1 libdrm2 libedit2 libelf1 libgl1 libgl1-mesa-dri\n",
            "#8 1.982   libgl1-mesa-glx libglapi-mesa libglvnd0 libglx-mesa0 libglx0 libllvm7\n",
            "#8 1.983   libpciaccess0 libsensors-config libsensors5 libx11-6 libx11-data libx11-xcb1\n",
            "#8 1.983   libxau6 libxcb-dri2-0 libxcb-dri3-0 libxcb-glx0 libxcb-present0 libxcb-sync1\n",
            "#8 1.983   libxcb1 libxdamage1 libxdmcp6 libxext6 libxfixes3 libxshmfence1 libxxf86vm1\n",
            "#8 2.062 0 upgraded, 36 newly installed, 0 to remove and 4 not upgraded.\n",
            "#8 2.062 Need to get 23.0 MB of archives.\n",
            "#8 2.062 After this operation, 220 MB of additional disk space will be used.\n",
            "#8 2.062 Get:1 http://deb.debian.org/debian buster/main amd64 libbsd0 amd64 0.9.1-2+deb10u1 [99.5 kB]\n",
            "#8 2.128 Get:2 http://deb.debian.org/debian buster/main amd64 libdrm-common all 2.4.97-1 [13.8 kB]\n",
            "#8 2.129 Get:3 http://deb.debian.org/debian buster/main amd64 libdrm2 amd64 2.4.97-1 [39.7 kB]\n",
            "#8 2.166 Get:4 http://deb.debian.org/debian buster/main amd64 libdrm-amdgpu1 amd64 2.4.97-1 [27.3 kB]\n",
            "#8 2.171 Get:5 http://deb.debian.org/debian buster/main amd64 libpciaccess0 amd64 0.14-1 [53.5 kB]\n",
            "#8 2.179 Get:6 http://deb.debian.org/debian buster/main amd64 libdrm-intel1 amd64 2.4.97-1 [69.8 kB]\n",
            "#8 2.194 Get:7 http://deb.debian.org/debian buster/main amd64 libdrm-nouveau2 amd64 2.4.97-1 [26.3 kB]\n",
            "#8 2.201 Get:8 http://deb.debian.org/debian buster/main amd64 libdrm-radeon1 amd64 2.4.97-1 [31.1 kB]\n",
            "#8 2.206 Get:9 http://deb.debian.org/debian buster/main amd64 libedit2 amd64 3.1-20181209-1 [94.0 kB]\n",
            "#8 2.225 Get:10 http://deb.debian.org/debian buster/main amd64 libelf1 amd64 0.176-1.1 [161 kB]\n",
            "#8 2.253 Get:11 http://deb.debian.org/debian buster/main amd64 libglapi-mesa amd64 18.3.6-2+deb10u1 [66.3 kB]\n",
            "#8 2.263 Get:12 http://deb.debian.org/debian buster/main amd64 libllvm7 amd64 1:7.0.1-8+deb10u2 [13.1 MB]\n",
            "#8 ...\n",
            "\n",
            "#5 [internal] load build context\n",
            "#5 transferring context: 1.10GB 10.1s done\n",
            "#5 DONE 10.2s\n",
            "\n",
            "#8 [ 4/11] RUN apt install -y libgl1-mesa-glx\n",
            "#8 4.624 Get:13 http://deb.debian.org/debian buster/main amd64 libsensors-config all 1:3.5.0-3 [31.6 kB]\n",
            "#8 4.629 Get:14 http://deb.debian.org/debian buster/main amd64 libsensors5 amd64 1:3.5.0-3 [52.6 kB]\n",
            "#8 4.638 Get:15 http://deb.debian.org/debian buster/main amd64 libgl1-mesa-dri amd64 18.3.6-2+deb10u1 [6685 kB]\n",
            "#8 5.945 Get:16 http://deb.debian.org/debian buster/main amd64 libglvnd0 amd64 1.1.0-1 [48.6 kB]\n",
            "#8 5.952 Get:17 http://deb.debian.org/debian buster/main amd64 libxau6 amd64 1:1.0.8-1+b2 [19.9 kB]\n",
            "#8 5.959 Get:18 http://deb.debian.org/debian buster/main amd64 libxdmcp6 amd64 1:1.1.2-3 [26.3 kB]\n",
            "#8 5.964 Get:19 http://deb.debian.org/debian buster/main amd64 libxcb1 amd64 1.13.1-2 [137 kB]\n",
            "#8 5.990 Get:20 http://deb.debian.org/debian buster/main amd64 libx11-data all 2:1.6.7-1+deb10u2 [299 kB]\n",
            "#8 6.046 Get:21 http://deb.debian.org/debian buster/main amd64 libx11-6 amd64 2:1.6.7-1+deb10u2 [757 kB]\n",
            "#8 6.193 Get:22 http://deb.debian.org/debian buster/main amd64 libxext6 amd64 2:1.3.3-1+b2 [52.5 kB]\n",
            "#8 6.207 Get:23 http://deb.debian.org/debian buster/main amd64 libx11-xcb1 amd64 2:1.6.7-1+deb10u2 [191 kB]\n",
            "#8 6.241 Get:24 http://deb.debian.org/debian buster/main amd64 libxcb-dri2-0 amd64 1.13.1-2 [101 kB]\n",
            "#8 6.262 Get:25 http://deb.debian.org/debian buster/main amd64 libxcb-dri3-0 amd64 1.13.1-2 [100 kB]\n",
            "#8 6.280 Get:26 http://deb.debian.org/debian buster/main amd64 libxcb-glx0 amd64 1.13.1-2 [116 kB]\n",
            "#8 6.305 Get:27 http://deb.debian.org/debian buster/main amd64 libxcb-present0 amd64 1.13.1-2 [99.1 kB]\n",
            "#8 6.323 Get:28 http://deb.debian.org/debian buster/main amd64 libxcb-sync1 amd64 1.13.1-2 [103 kB]\n",
            "#8 6.345 Get:29 http://deb.debian.org/debian buster/main amd64 libxfixes3 amd64 1:5.0.3-1 [21.9 kB]\n",
            "#8 6.348 Get:30 http://deb.debian.org/debian buster/main amd64 libxdamage1 amd64 1:1.1.4-3+b3 [14.9 kB]\n",
            "#8 6.352 Get:31 http://deb.debian.org/debian buster/main amd64 libxshmfence1 amd64 1.3-1 [8820 B]\n",
            "#8 6.352 Get:32 http://deb.debian.org/debian buster/main amd64 libxxf86vm1 amd64 1:1.1.4-1+b2 [20.8 kB]\n",
            "#8 6.357 Get:33 http://deb.debian.org/debian buster/main amd64 libglx-mesa0 amd64 18.3.6-2+deb10u1 [180 kB]\n",
            "#8 6.392 Get:34 http://deb.debian.org/debian buster/main amd64 libglx0 amd64 1.1.0-1 [30.0 kB]\n",
            "#8 6.424 Get:35 http://deb.debian.org/debian buster/main amd64 libgl1 amd64 1.1.0-1 [91.1 kB]\n",
            "#8 6.425 Get:36 http://deb.debian.org/debian buster/main amd64 libgl1-mesa-glx amd64 18.3.6-2+deb10u1 [47.4 kB]\n",
            "#8 6.591 debconf: delaying package configuration, since apt-utils is not installed\n",
            "#8 6.612 Fetched 23.0 MB in 4s (5159 kB/s)\n",
            "#8 6.642 Selecting previously unselected package libbsd0:amd64.\n",
            "(Reading database ... 6840 files and directories currently installed.)\n",
            "#8 6.660 Preparing to unpack .../00-libbsd0_0.9.1-2+deb10u1_amd64.deb ...\n",
            "#8 6.671 Unpacking libbsd0:amd64 (0.9.1-2+deb10u1) ...\n",
            "#8 6.711 Selecting previously unselected package libdrm-common.\n",
            "#8 6.711 Preparing to unpack .../01-libdrm-common_2.4.97-1_all.deb ...\n",
            "#8 6.718 Unpacking libdrm-common (2.4.97-1) ...\n",
            "#8 6.758 Selecting previously unselected package libdrm2:amd64.\n",
            "#8 6.759 Preparing to unpack .../02-libdrm2_2.4.97-1_amd64.deb ...\n",
            "#8 6.764 Unpacking libdrm2:amd64 (2.4.97-1) ...\n",
            "#8 6.805 Selecting previously unselected package libdrm-amdgpu1:amd64.\n",
            "#8 6.805 Preparing to unpack .../03-libdrm-amdgpu1_2.4.97-1_amd64.deb ...\n",
            "#8 6.811 Unpacking libdrm-amdgpu1:amd64 (2.4.97-1) ...\n",
            "#8 6.851 Selecting previously unselected package libpciaccess0:amd64.\n",
            "#8 6.851 Preparing to unpack .../04-libpciaccess0_0.14-1_amd64.deb ...\n",
            "#8 6.857 Unpacking libpciaccess0:amd64 (0.14-1) ...\n",
            "#8 6.899 Selecting previously unselected package libdrm-intel1:amd64.\n",
            "#8 6.899 Preparing to unpack .../05-libdrm-intel1_2.4.97-1_amd64.deb ...\n",
            "#8 6.904 Unpacking libdrm-intel1:amd64 (2.4.97-1) ...\n",
            "#8 6.949 Selecting previously unselected package libdrm-nouveau2:amd64.\n",
            "#8 6.950 Preparing to unpack .../06-libdrm-nouveau2_2.4.97-1_amd64.deb ...\n",
            "#8 6.956 Unpacking libdrm-nouveau2:amd64 (2.4.97-1) ...\n",
            "#8 6.999 Selecting previously unselected package libdrm-radeon1:amd64.\n",
            "#8 6.999 Preparing to unpack .../07-libdrm-radeon1_2.4.97-1_amd64.deb ...\n",
            "#8 7.008 Unpacking libdrm-radeon1:amd64 (2.4.97-1) ...\n",
            "#8 7.052 Selecting previously unselected package libedit2:amd64.\n",
            "#8 7.052 Preparing to unpack .../08-libedit2_3.1-20181209-1_amd64.deb ...\n",
            "#8 7.058 Unpacking libedit2:amd64 (3.1-20181209-1) ...\n",
            "#8 7.104 Selecting previously unselected package libelf1:amd64.\n",
            "#8 7.104 Preparing to unpack .../09-libelf1_0.176-1.1_amd64.deb ...\n",
            "#8 7.109 Unpacking libelf1:amd64 (0.176-1.1) ...\n",
            "#8 7.160 Selecting previously unselected package libglapi-mesa:amd64.\n",
            "#8 7.160 Preparing to unpack .../10-libglapi-mesa_18.3.6-2+deb10u1_amd64.deb ...\n",
            "#8 7.166 Unpacking libglapi-mesa:amd64 (18.3.6-2+deb10u1) ...\n",
            "#8 7.207 Selecting previously unselected package libllvm7:amd64.\n",
            "#8 7.207 Preparing to unpack .../11-libllvm7_1%3a7.0.1-8+deb10u2_amd64.deb ...\n",
            "#8 7.213 Unpacking libllvm7:amd64 (1:7.0.1-8+deb10u2) ...\n",
            "#8 8.171 Selecting previously unselected package libsensors-config.\n",
            "#8 8.171 Preparing to unpack .../12-libsensors-config_1%3a3.5.0-3_all.deb ...\n",
            "#8 8.189 Unpacking libsensors-config (1:3.5.0-3) ...\n",
            "#8 8.232 Selecting previously unselected package libsensors5:amd64.\n",
            "#8 8.233 Preparing to unpack .../13-libsensors5_1%3a3.5.0-3_amd64.deb ...\n",
            "#8 8.241 Unpacking libsensors5:amd64 (1:3.5.0-3) ...\n",
            "#8 8.285 Selecting previously unselected package libgl1-mesa-dri:amd64.\n",
            "#8 8.285 Preparing to unpack .../14-libgl1-mesa-dri_18.3.6-2+deb10u1_amd64.deb ...\n",
            "#8 8.296 Unpacking libgl1-mesa-dri:amd64 (18.3.6-2+deb10u1) ...\n",
            "#8 8.801 Selecting previously unselected package libglvnd0:amd64.\n",
            "#8 8.802 Preparing to unpack .../15-libglvnd0_1.1.0-1_amd64.deb ...\n",
            "#8 8.807 Unpacking libglvnd0:amd64 (1.1.0-1) ...\n",
            "#8 8.851 Selecting previously unselected package libxau6:amd64.\n",
            "#8 8.852 Preparing to unpack .../16-libxau6_1%3a1.0.8-1+b2_amd64.deb ...\n",
            "#8 8.857 Unpacking libxau6:amd64 (1:1.0.8-1+b2) ...\n",
            "#8 8.893 Selecting previously unselected package libxdmcp6:amd64.\n",
            "#8 8.893 Preparing to unpack .../17-libxdmcp6_1%3a1.1.2-3_amd64.deb ...\n",
            "#8 8.898 Unpacking libxdmcp6:amd64 (1:1.1.2-3) ...\n",
            "#8 8.937 Selecting previously unselected package libxcb1:amd64.\n",
            "#8 8.938 Preparing to unpack .../18-libxcb1_1.13.1-2_amd64.deb ...\n",
            "#8 8.943 Unpacking libxcb1:amd64 (1.13.1-2) ...\n",
            "#8 8.979 Selecting previously unselected package libx11-data.\n",
            "#8 8.979 Preparing to unpack .../19-libx11-data_2%3a1.6.7-1+deb10u2_all.deb ...\n",
            "#8 8.984 Unpacking libx11-data (2:1.6.7-1+deb10u2) ...\n",
            "#8 9.056 Selecting previously unselected package libx11-6:amd64.\n",
            "#8 9.056 Preparing to unpack .../20-libx11-6_2%3a1.6.7-1+deb10u2_amd64.deb ...\n",
            "#8 9.062 Unpacking libx11-6:amd64 (2:1.6.7-1+deb10u2) ...\n",
            "#8 9.146 Selecting previously unselected package libxext6:amd64.\n",
            "#8 9.146 Preparing to unpack .../21-libxext6_2%3a1.3.3-1+b2_amd64.deb ...\n",
            "#8 9.151 Unpacking libxext6:amd64 (2:1.3.3-1+b2) ...\n",
            "#8 9.192 Selecting previously unselected package libx11-xcb1:amd64.\n",
            "#8 9.192 Preparing to unpack .../22-libx11-xcb1_2%3a1.6.7-1+deb10u2_amd64.deb ...\n",
            "#8 9.198 Unpacking libx11-xcb1:amd64 (2:1.6.7-1+deb10u2) ...\n",
            "#8 9.242 Selecting previously unselected package libxcb-dri2-0:amd64.\n",
            "#8 9.243 Preparing to unpack .../23-libxcb-dri2-0_1.13.1-2_amd64.deb ...\n",
            "#8 9.248 Unpacking libxcb-dri2-0:amd64 (1.13.1-2) ...\n",
            "#8 9.296 Selecting previously unselected package libxcb-dri3-0:amd64.\n",
            "#8 9.297 Preparing to unpack .../24-libxcb-dri3-0_1.13.1-2_amd64.deb ...\n",
            "#8 9.304 Unpacking libxcb-dri3-0:amd64 (1.13.1-2) ...\n",
            "#8 9.352 Selecting previously unselected package libxcb-glx0:amd64.\n",
            "#8 9.352 Preparing to unpack .../25-libxcb-glx0_1.13.1-2_amd64.deb ...\n",
            "#8 9.357 Unpacking libxcb-glx0:amd64 (1.13.1-2) ...\n",
            "#8 9.405 Selecting previously unselected package libxcb-present0:amd64.\n",
            "#8 9.406 Preparing to unpack .../26-libxcb-present0_1.13.1-2_amd64.deb ...\n",
            "#8 9.412 Unpacking libxcb-present0:amd64 (1.13.1-2) ...\n",
            "#8 9.458 Selecting previously unselected package libxcb-sync1:amd64.\n",
            "#8 9.458 Preparing to unpack .../27-libxcb-sync1_1.13.1-2_amd64.deb ...\n",
            "#8 9.464 Unpacking libxcb-sync1:amd64 (1.13.1-2) ...\n",
            "#8 9.521 Selecting previously unselected package libxfixes3:amd64.\n",
            "#8 9.522 Preparing to unpack .../28-libxfixes3_1%3a5.0.3-1_amd64.deb ...\n",
            "#8 9.529 Unpacking libxfixes3:amd64 (1:5.0.3-1) ...\n",
            "#8 9.705 Selecting previously unselected package libxdamage1:amd64.\n",
            "#8 9.705 Preparing to unpack .../29-libxdamage1_1%3a1.1.4-3+b3_amd64.deb ...\n",
            "#8 9.710 Unpacking libxdamage1:amd64 (1:1.1.4-3+b3) ...\n",
            "#8 9.751 Selecting previously unselected package libxshmfence1:amd64.\n",
            "#8 9.752 Preparing to unpack .../30-libxshmfence1_1.3-1_amd64.deb ...\n",
            "#8 9.757 Unpacking libxshmfence1:amd64 (1.3-1) ...\n",
            "#8 9.792 Selecting previously unselected package libxxf86vm1:amd64.\n",
            "#8 9.793 Preparing to unpack .../31-libxxf86vm1_1%3a1.1.4-1+b2_amd64.deb ...\n",
            "#8 9.799 Unpacking libxxf86vm1:amd64 (1:1.1.4-1+b2) ...\n",
            "#8 9.839 Selecting previously unselected package libglx-mesa0:amd64.\n",
            "#8 9.839 Preparing to unpack .../32-libglx-mesa0_18.3.6-2+deb10u1_amd64.deb ...\n",
            "#8 9.844 Unpacking libglx-mesa0:amd64 (18.3.6-2+deb10u1) ...\n",
            "#8 9.896 Selecting previously unselected package libglx0:amd64.\n",
            "#8 9.897 Preparing to unpack .../33-libglx0_1.1.0-1_amd64.deb ...\n",
            "#8 9.904 Unpacking libglx0:amd64 (1.1.0-1) ...\n",
            "#8 9.946 Selecting previously unselected package libgl1:amd64.\n",
            "#8 9.946 Preparing to unpack .../34-libgl1_1.1.0-1_amd64.deb ...\n",
            "#8 9.952 Unpacking libgl1:amd64 (1.1.0-1) ...\n",
            "#8 9.987 Selecting previously unselected package libgl1-mesa-glx:amd64.\n",
            "#8 9.988 Preparing to unpack .../35-libgl1-mesa-glx_18.3.6-2+deb10u1_amd64.deb ...\n",
            "#8 9.993 Unpacking libgl1-mesa-glx:amd64 (18.3.6-2+deb10u1) ...\n",
            "#8 10.04 Setting up libx11-xcb1:amd64 (2:1.6.7-1+deb10u2) ...\n",
            "#8 10.06 Setting up libpciaccess0:amd64 (0.14-1) ...\n",
            "#8 10.07 Setting up libxau6:amd64 (1:1.0.8-1+b2) ...\n",
            "#8 10.09 Setting up libglvnd0:amd64 (1.1.0-1) ...\n",
            "#8 10.10 Setting up libsensors-config (1:3.5.0-3) ...\n",
            "#8 10.12 Setting up libx11-data (2:1.6.7-1+deb10u2) ...\n",
            "#8 10.14 Setting up libsensors5:amd64 (1:3.5.0-3) ...\n",
            "#8 10.15 Setting up libglapi-mesa:amd64 (18.3.6-2+deb10u1) ...\n",
            "#8 10.17 Setting up libxshmfence1:amd64 (1.3-1) ...\n",
            "#8 10.18 Setting up libbsd0:amd64 (0.9.1-2+deb10u1) ...\n",
            "#8 10.20 Setting up libdrm-common (2.4.97-1) ...\n",
            "#8 10.22 Setting up libelf1:amd64 (0.176-1.1) ...\n",
            "#8 10.23 Setting up libxdmcp6:amd64 (1:1.1.2-3) ...\n",
            "#8 10.25 Setting up libxcb1:amd64 (1.13.1-2) ...\n",
            "#8 10.26 Setting up libxcb-glx0:amd64 (1.13.1-2) ...\n",
            "#8 10.28 Setting up libedit2:amd64 (3.1-20181209-1) ...\n",
            "#8 10.29 Setting up libxcb-present0:amd64 (1.13.1-2) ...\n",
            "#8 10.31 Setting up libxcb-sync1:amd64 (1.13.1-2) ...\n",
            "#8 10.32 Setting up libxcb-dri2-0:amd64 (1.13.1-2) ...\n",
            "#8 10.34 Setting up libdrm2:amd64 (2.4.97-1) ...\n",
            "#8 10.35 Setting up libllvm7:amd64 (1:7.0.1-8+deb10u2) ...\n",
            "#8 10.37 Setting up libx11-6:amd64 (2:1.6.7-1+deb10u2) ...\n",
            "#8 10.39 Setting up libdrm-amdgpu1:amd64 (2.4.97-1) ...\n",
            "#8 10.40 Setting up libxcb-dri3-0:amd64 (1.13.1-2) ...\n",
            "#8 10.42 Setting up libdrm-nouveau2:amd64 (2.4.97-1) ...\n",
            "#8 10.44 Setting up libdrm-radeon1:amd64 (2.4.97-1) ...\n",
            "#8 10.46 Setting up libdrm-intel1:amd64 (2.4.97-1) ...\n",
            "#8 10.47 Setting up libgl1-mesa-dri:amd64 (18.3.6-2+deb10u1) ...\n",
            "#8 10.49 Setting up libxext6:amd64 (2:1.3.3-1+b2) ...\n",
            "#8 10.51 Setting up libxxf86vm1:amd64 (1:1.1.4-1+b2) ...\n",
            "#8 10.52 Setting up libxfixes3:amd64 (1:5.0.3-1) ...\n",
            "#8 10.54 Setting up libxdamage1:amd64 (1:1.1.4-3+b3) ...\n",
            "#8 10.55 Setting up libglx-mesa0:amd64 (18.3.6-2+deb10u1) ...\n",
            "#8 10.57 Setting up libglx0:amd64 (1.1.0-1) ...\n",
            "#8 10.58 Setting up libgl1:amd64 (1.1.0-1) ...\n",
            "#8 10.59 Setting up libgl1-mesa-glx:amd64 (18.3.6-2+deb10u1) ...\n",
            "#8 10.61 Processing triggers for libc-bin (2.28-10+deb10u1) ...\n",
            "#8 DONE 10.7s\n",
            "\n",
            "#9 [ 5/11] ADD . /app\n",
            "#9 DONE 5.4s\n",
            "\n",
            "#10 [ 6/11] RUN pip install --default-timeout=100 future\n",
            "#10 1.950 Collecting future\n",
            "#10 2.113   Downloading future-0.18.2.tar.gz (829 kB)\n",
            "#10 2.360      ━━━━━━━━━━━━━━━━━━━━━━━━━━━━━━━━━━━━━━━ 829.2/829.2 KB 3.4 MB/s eta 0:00:00\n",
            "#10 2.443   Preparing metadata (setup.py): started\n",
            "#10 2.793   Preparing metadata (setup.py): finished with status 'done'\n",
            "#10 2.798 Building wheels for collected packages: future\n",
            "#10 2.799   Building wheel for future (setup.py): started\n",
            "#10 3.154   Building wheel for future (setup.py): finished with status 'done'\n",
            "#10 3.155   Created wheel for future: filename=future-0.18.2-py3-none-any.whl size=491070 sha256=ceee7a71443d9467a316423835a7a82be32328a7c05b088dcf328a0c92270348\n",
            "#10 3.155   Stored in directory: /root/.cache/pip/wheels/8e/70/28/3d6ccd6e315f65f245da085482a2e1c7d14b90b30f239e2cf4\n",
            "#10 3.160 Successfully built future\n",
            "#10 3.183 Installing collected packages: future\n",
            "#10 3.369 Successfully installed future-0.18.2\n",
            "#10 3.369 WARNING: Running pip as the 'root' user can result in broken permissions and conflicting behaviour with the system package manager. It is recommended to use a virtual environment instead: https://pip.pypa.io/warnings/venv\n",
            "#10 3.497 WARNING: You are using pip version 22.0.4; however, version 22.2.2 is available.\n",
            "#10 3.497 You should consider upgrading via the '/usr/local/bin/python -m pip install --upgrade pip' command.\n",
            "#10 DONE 3.6s\n",
            "\n",
            "#11 [ 7/11] RUN pip install --upgrade pip\n",
            "#11 0.721 Requirement already satisfied: pip in /usr/local/lib/python3.8/site-packages (22.0.4)\n",
            "#11 0.858 Collecting pip\n",
            "#11 0.983   Downloading pip-22.2.2-py3-none-any.whl (2.0 MB)\n",
            "#11 1.373      ━━━━━━━━━━━━━━━━━━━━━━━━━━━━━━━━━━━━━━━━ 2.0/2.0 MB 5.3 MB/s eta 0:00:00\n",
            "#11 1.401 Installing collected packages: pip\n",
            "#11 1.401   Attempting uninstall: pip\n",
            "#11 1.402     Found existing installation: pip 22.0.4\n",
            "#11 1.488     Uninstalling pip-22.0.4:\n",
            "#11 1.615       Successfully uninstalled pip-22.0.4\n",
            "#11 2.407 Successfully installed pip-22.2.2\n",
            "#11 2.407 WARNING: Running pip as the 'root' user can result in broken permissions and conflicting behaviour with the system package manager. It is recommended to use a virtual environment instead: https://pip.pypa.io/warnings/venv\n",
            "#11 DONE 2.5s\n",
            "\n",
            "#12 [ 8/11] RUN pip install -r requirements.txt\n",
            "#12 0.789 Collecting pytorch_lightning\n",
            "#12 0.926   Downloading pytorch_lightning-1.7.7-py3-none-any.whl (708 kB)\n",
            "#12 1.083      ━━━━━━━━━━━━━━━━━━━━━━━━━━━━━━━━━━━━━━━ 708.1/708.1 kB 4.5 MB/s eta 0:00:00\n",
            "#12 1.153 Collecting transformers\n",
            "#12 1.204   Downloading transformers-4.22.2-py3-none-any.whl (4.9 MB)\n",
            "#12 2.059      ━━━━━━━━━━━━━━━━━━━━━━━━━━━━━━━━━━━━━━━━ 4.9/4.9 MB 5.7 MB/s eta 0:00:00\n",
            "#12 2.125 Collecting uvicorn\n",
            "#12 2.156   Downloading uvicorn-0.18.3-py3-none-any.whl (57 kB)\n",
            "#12 2.169      ━━━━━━━━━━━━━━━━━━━━━━━━━━━━━━━━━━━━━━━━ 57.4/57.4 kB 5.0 MB/s eta 0:00:00\n",
            "#12 2.256 Collecting fastapi\n",
            "#12 2.287   Downloading fastapi-0.85.0-py3-none-any.whl (55 kB)\n",
            "#12 2.300      ━━━━━━━━━━━━━━━━━━━━━━━━━━━━━━━━━━━━━━━━ 55.3/55.3 kB 4.6 MB/s eta 0:00:00\n",
            "#12 2.397 Collecting SentencePiece\n",
            "#12 2.434   Downloading sentencepiece-0.1.97-cp38-cp38-manylinux_2_17_x86_64.manylinux2014_x86_64.whl (1.3 MB)\n",
            "#12 2.661      ━━━━━━━━━━━━━━━━━━━━━━━━━━━━━━━━━━━━━━━━ 1.3/1.3 MB 5.7 MB/s eta 0:00:00\n",
            "#12 2.769 Collecting typing-extensions>=4.0.0\n",
            "#12 2.800   Downloading typing_extensions-4.3.0-py3-none-any.whl (25 kB)\n",
            "#12 3.091 Collecting numpy>=1.17.2\n",
            "#12 3.125   Downloading numpy-1.23.3-cp38-cp38-manylinux_2_17_x86_64.manylinux2014_x86_64.whl (17.1 MB)\n",
            "#12 7.111      ━━━━━━━━━━━━━━━━━━━━━━━━━━━━━━━━━━━━━━━━ 17.1/17.1 MB 3.6 MB/s eta 0:00:00\n",
            "#12 7.175 Collecting packaging>=17.0\n",
            "#12 7.213   Downloading packaging-21.3-py3-none-any.whl (40 kB)\n",
            "#12 7.226      ━━━━━━━━━━━━━━━━━━━━━━━━━━━━━━━━━━━━━━━━ 40.8/40.8 kB 3.0 MB/s eta 0:00:00\n",
            "#12 7.269 Collecting torchmetrics>=0.7.0\n",
            "#12 7.308   Downloading torchmetrics-0.9.3-py3-none-any.whl (419 kB)\n",
            "#12 7.434      ━━━━━━━━━━━━━━━━━━━━━━━━━━━━━━━━━━━━━━━ 419.6/419.6 kB 3.4 MB/s eta 0:00:00\n",
            "#12 7.491 Collecting fsspec[http]!=2021.06.0,>=2021.05.0\n",
            "#12 7.525   Downloading fsspec-2022.8.2-py3-none-any.whl (140 kB)\n",
            "#12 7.568      ━━━━━━━━━━━━━━━━━━━━━━━━━━━━━━━━━━━━━━━ 140.8/140.8 kB 3.2 MB/s eta 0:00:00\n",
            "#12 7.633 Collecting torch>=1.9.*\n",
            "#12 7.665   Downloading torch-1.12.1-cp38-cp38-manylinux1_x86_64.whl (776.3 MB)\n",
            "#12 161.8      ━━━━━━━━━━━━━━━━━━━━━━━━━━━━━━━━━━━━━━━ 776.3/776.3 MB 2.4 MB/s eta 0:00:00\n",
            "#12 163.5 Collecting tqdm>=4.57.0\n",
            "#12 163.5   Downloading tqdm-4.64.1-py2.py3-none-any.whl (78 kB)\n",
            "#12 163.5      ━━━━━━━━━━━━━━━━━━━━━━━━━━━━━━━━━━━━━━━━ 78.5/78.5 kB 4.4 MB/s eta 0:00:00\n",
            "#12 163.6 Collecting pyDeprecate>=0.3.1\n",
            "#12 163.6   Downloading pyDeprecate-0.3.2-py3-none-any.whl (10 kB)\n",
            "#12 163.7 Collecting tensorboard>=2.9.1\n",
            "#12 163.7   Downloading tensorboard-2.10.1-py3-none-any.whl (5.9 MB)\n",
            "#12 164.7      ━━━━━━━━━━━━━━━━━━━━━━━━━━━━━━━━━━━━━━━━ 5.9/5.9 MB 5.7 MB/s eta 0:00:00\n",
            "#12 164.8 Collecting PyYAML>=5.4\n",
            "#12 164.8   Downloading PyYAML-6.0-cp38-cp38-manylinux_2_5_x86_64.manylinux1_x86_64.manylinux_2_12_x86_64.manylinux2010_x86_64.whl (701 kB)\n",
            "#12 165.0      ━━━━━━━━━━━━━━━━━━━━━━━━━━━━━━━━━━━━━━━ 701.2/701.2 kB 5.5 MB/s eta 0:00:00\n",
            "#12 165.3 Collecting huggingface-hub<1.0,>=0.9.0\n",
            "#12 165.3   Downloading huggingface_hub-0.10.0-py3-none-any.whl (163 kB)\n",
            "#12 165.4      ━━━━━━━━━━━━━━━━━━━━━━━━━━━━━━━━━━━━━━━ 163.5/163.5 kB 4.9 MB/s eta 0:00:00\n",
            "#12 166.0 Collecting regex!=2019.12.17\n",
            "#12 166.0   Downloading regex-2022.9.13-cp38-cp38-manylinux_2_17_x86_64.manylinux2014_x86_64.whl (772 kB)\n",
            "#12 166.1      ━━━━━━━━━━━━━━━━━━━━━━━━━━━━━━━━━━━━━━━ 772.3/772.3 kB 5.6 MB/s eta 0:00:00\n",
            "#12 166.2 Collecting filelock\n",
            "#12 166.2   Downloading filelock-3.8.0-py3-none-any.whl (10 kB)\n",
            "#12 166.3 Collecting requests\n",
            "#12 166.3   Downloading requests-2.28.1-py3-none-any.whl (62 kB)\n",
            "#12 166.3      ━━━━━━━━━━━━━━━━━━━━━━━━━━━━━━━━━━━━━━━━ 62.8/62.8 kB 4.1 MB/s eta 0:00:00\n",
            "#12 166.5 Collecting tokenizers!=0.11.3,<0.13,>=0.11.1\n",
            "#12 166.6   Downloading tokenizers-0.12.1-cp38-cp38-manylinux_2_12_x86_64.manylinux2010_x86_64.whl (6.6 MB)\n",
            "#12 167.7      ━━━━━━━━━━━━━━━━━━━━━━━━━━━━━━━━━━━━━━━━ 6.6/6.6 MB 5.7 MB/s eta 0:00:00\n",
            "#12 167.8 Collecting click>=7.0\n",
            "#12 167.8   Downloading click-8.1.3-py3-none-any.whl (96 kB)\n",
            "#12 167.9      ━━━━━━━━━━━━━━━━━━━━━━━━━━━━━━━━━━━━━━━━ 96.6/96.6 kB 4.6 MB/s eta 0:00:00\n",
            "#12 167.9 Collecting h11>=0.8\n",
            "#12 167.9   Downloading h11-0.14.0-py3-none-any.whl (58 kB)\n",
            "#12 168.0      ━━━━━━━━━━━━━━━━━━━━━━━━━━━━━━━━━━━━━━━━ 58.3/58.3 kB 3.5 MB/s eta 0:00:00\n",
            "#12 168.0 Collecting starlette==0.20.4\n",
            "#12 168.1   Downloading starlette-0.20.4-py3-none-any.whl (63 kB)\n",
            "#12 168.1      ━━━━━━━━━━━━━━━━━━━━━━━━━━━━━━━━━━━━━━━━ 63.6/63.6 kB 4.6 MB/s eta 0:00:00\n",
            "#12 168.3 Collecting pydantic!=1.7,!=1.7.1,!=1.7.2,!=1.7.3,!=1.8,!=1.8.1,<2.0.0,>=1.6.2\n",
            "#12 168.3   Downloading pydantic-1.10.2-cp38-cp38-manylinux_2_17_x86_64.manylinux2014_x86_64.whl (13.6 MB)\n",
            "#12 170.7      ━━━━━━━━━━━━━━━━━━━━━━━━━━━━━━━━━━━━━━━━ 13.6/13.6 MB 5.5 MB/s eta 0:00:00\n",
            "#12 170.8 Collecting anyio<5,>=3.4.0\n",
            "#12 170.8   Downloading anyio-3.6.1-py3-none-any.whl (80 kB)\n",
            "#12 170.9      ━━━━━━━━━━━━━━━━━━━━━━━━━━━━━━━━━━━━━━━━ 80.6/80.6 kB 4.2 MB/s eta 0:00:00\n",
            "#12 171.2 Collecting aiohttp!=4.0.0a0,!=4.0.0a1\n",
            "#12 171.2   Downloading aiohttp-3.8.3-cp38-cp38-manylinux_2_17_x86_64.manylinux2014_x86_64.whl (1.0 MB)\n",
            "#12 171.4      ━━━━━━━━━━━━━━━━━━━━━━━━━━━━━━━━━━━━━━━━ 1.0/1.0 MB 5.6 MB/s eta 0:00:00\n",
            "#12 171.6 Collecting pyparsing!=3.0.5,>=2.0.2\n",
            "#12 171.6   Downloading pyparsing-3.0.9-py3-none-any.whl (98 kB)\n",
            "#12 171.6      ━━━━━━━━━━━━━━━━━━━━━━━━━━━━━━━━━━━━━━━━ 98.3/98.3 kB 4.2 MB/s eta 0:00:00\n",
            "#12 171.6 Requirement already satisfied: wheel>=0.26 in /usr/local/lib/python3.8/site-packages (from tensorboard>=2.9.1->pytorch_lightning->-r requirements.txt (line 1)) (0.37.1)\n",
            "#12 171.6 Requirement already satisfied: setuptools>=41.0.0 in /usr/local/lib/python3.8/site-packages (from tensorboard>=2.9.1->pytorch_lightning->-r requirements.txt (line 1)) (57.5.0)\n",
            "#12 171.7 Collecting tensorboard-plugin-wit>=1.6.0\n",
            "#12 171.7   Downloading tensorboard_plugin_wit-1.8.1-py3-none-any.whl (781 kB)\n",
            "#12 171.9      ━━━━━━━━━━━━━━━━━━━━━━━━━━━━━━━━━━━━━━━ 781.3/781.3 kB 5.7 MB/s eta 0:00:00\n",
            "#12 171.9 Collecting google-auth<3,>=1.6.3\n",
            "#12 172.0   Downloading google_auth-2.12.0-py2.py3-none-any.whl (169 kB)\n",
            "#12 172.0      ━━━━━━━━━━━━━━━━━━━━━━━━━━━━━━━━━━━━━━━ 169.8/169.8 kB 5.0 MB/s eta 0:00:00\n",
            "#12 172.2 Collecting protobuf<3.20,>=3.9.2\n",
            "#12 172.3   Downloading protobuf-3.19.6-cp38-cp38-manylinux_2_17_x86_64.manylinux2014_x86_64.whl (1.1 MB)\n",
            "#12 172.5      ━━━━━━━━━━━━━━━━━━━━━━━━━━━━━━━━━━━━━━━━ 1.1/1.1 MB 5.5 MB/s eta 0:00:00\n",
            "#12 172.5 Collecting werkzeug>=1.0.1\n",
            "#12 172.6   Downloading Werkzeug-2.2.2-py3-none-any.whl (232 kB)\n",
            "#12 172.6      ━━━━━━━━━━━━━━━━━━━━━━━━━━━━━━━━━━━━━━━ 232.7/232.7 kB 5.2 MB/s eta 0:00:00\n",
            "#12 172.7 Collecting tensorboard-data-server<0.7.0,>=0.6.0\n",
            "#12 172.7   Downloading tensorboard_data_server-0.6.1-py3-none-manylinux2010_x86_64.whl (4.9 MB)\n",
            "#12 173.6      ━━━━━━━━━━━━━━━━━━━━━━━━━━━━━━━━━━━━━━━━ 4.9/4.9 MB 5.8 MB/s eta 0:00:00\n",
            "#12 173.6 Collecting google-auth-oauthlib<0.5,>=0.4.1\n",
            "#12 173.6   Downloading google_auth_oauthlib-0.4.6-py2.py3-none-any.whl (18 kB)\n",
            "#12 173.7 Collecting markdown>=2.6.8\n",
            "#12 173.7   Downloading Markdown-3.4.1-py3-none-any.whl (93 kB)\n",
            "#12 173.7      ━━━━━━━━━━━━━━━━━━━━━━━━━━━━━━━━━━━━━━━━ 93.3/93.3 kB 4.6 MB/s eta 0:00:00\n",
            "#12 174.3 Collecting grpcio>=1.24.3\n",
            "#12 174.4   Downloading grpcio-1.49.1-cp38-cp38-manylinux_2_17_x86_64.manylinux2014_x86_64.whl (4.7 MB)\n",
            "#12 175.2      ━━━━━━━━━━━━━━━━━━━━━━━━━━━━━━━━━━━━━━━━ 4.7/4.7 MB 5.7 MB/s eta 0:00:00\n",
            "#12 175.2 Collecting absl-py>=0.4\n",
            "#12 175.3   Downloading absl_py-1.2.0-py3-none-any.whl (123 kB)\n",
            "#12 175.3      ━━━━━━━━━━━━━━━━━━━━━━━━━━━━━━━━━━━━━━━ 123.4/123.4 kB 4.8 MB/s eta 0:00:00\n",
            "#12 175.4 Collecting charset-normalizer<3,>=2\n",
            "#12 175.4   Downloading charset_normalizer-2.1.1-py3-none-any.whl (39 kB)\n",
            "#12 175.5 Collecting urllib3<1.27,>=1.21.1\n",
            "#12 175.5   Downloading urllib3-1.26.12-py2.py3-none-any.whl (140 kB)\n",
            "#12 175.5      ━━━━━━━━━━━━━━━━━━━━━━━━━━━━━━━━━━━━━━━ 140.4/140.4 kB 5.1 MB/s eta 0:00:00\n",
            "#12 175.6 Collecting certifi>=2017.4.17\n",
            "#12 175.6   Downloading certifi-2022.9.24-py3-none-any.whl (161 kB)\n",
            "#12 175.6      ━━━━━━━━━━━━━━━━━━━━━━━━━━━━━━━━━━━━━━━ 161.1/161.1 kB 5.4 MB/s eta 0:00:00\n",
            "#12 175.7 Collecting idna<4,>=2.5\n",
            "#12 175.7   Downloading idna-3.4-py3-none-any.whl (61 kB)\n",
            "#12 175.7      ━━━━━━━━━━━━━━━━━━━━━━━━━━━━━━━━━━━━━━━━ 61.5/61.5 kB 3.6 MB/s eta 0:00:00\n",
            "#12 175.9 Collecting aiosignal>=1.1.2\n",
            "#12 175.9   Downloading aiosignal-1.2.0-py3-none-any.whl (8.2 kB)\n",
            "#12 176.0 Collecting attrs>=17.3.0\n",
            "#12 176.0   Downloading attrs-22.1.0-py2.py3-none-any.whl (58 kB)\n",
            "#12 176.0      ━━━━━━━━━━━━━━━━━━━━━━━━━━━━━━━━━━━━━━━━ 58.8/58.8 kB 4.0 MB/s eta 0:00:00\n",
            "#12 176.3 Collecting multidict<7.0,>=4.5\n",
            "#12 176.4   Downloading multidict-6.0.2-cp38-cp38-manylinux_2_17_x86_64.manylinux2014_x86_64.whl (121 kB)\n",
            "#12 176.4      ━━━━━━━━━━━━━━━━━━━━━━━━━━━━━━━━━━━━━━━ 121.3/121.3 kB 3.6 MB/s eta 0:00:00\n",
            "#12 176.5 Collecting frozenlist>=1.1.1\n",
            "#12 176.5   Downloading frozenlist-1.3.1-cp38-cp38-manylinux_2_5_x86_64.manylinux1_x86_64.manylinux_2_17_x86_64.manylinux2014_x86_64.whl (161 kB)\n",
            "#12 176.6      ━━━━━━━━━━━━━━━━━━━━━━━━━━━━━━━━━━━━━━━ 161.3/161.3 kB 5.3 MB/s eta 0:00:00\n",
            "#12 176.6 Collecting async-timeout<5.0,>=4.0.0a3\n",
            "#12 176.6   Downloading async_timeout-4.0.2-py3-none-any.whl (5.8 kB)\n",
            "#12 176.8 Collecting yarl<2.0,>=1.0\n",
            "#12 176.9   Downloading yarl-1.8.1-cp38-cp38-manylinux_2_17_x86_64.manylinux2014_x86_64.whl (262 kB)\n",
            "#12 176.9      ━━━━━━━━━━━━━━━━━━━━━━━━━━━━━━━━━━━━━━━ 262.1/262.1 kB 5.1 MB/s eta 0:00:00\n",
            "#12 177.0 Collecting sniffio>=1.1\n",
            "#12 177.0   Downloading sniffio-1.3.0-py3-none-any.whl (10 kB)\n",
            "#12 177.1 Collecting six>=1.9.0\n",
            "#12 177.1   Downloading six-1.16.0-py2.py3-none-any.whl (11 kB)\n",
            "#12 177.2 Collecting pyasn1-modules>=0.2.1\n",
            "#12 177.2   Downloading pyasn1_modules-0.2.8-py2.py3-none-any.whl (155 kB)\n",
            "#12 177.2      ━━━━━━━━━━━━━━━━━━━━━━━━━━━━━━━━━━━━━━━ 155.3/155.3 kB 5.5 MB/s eta 0:00:00\n",
            "#12 177.3 Collecting rsa<5,>=3.1.4\n",
            "#12 177.3   Downloading rsa-4.9-py3-none-any.whl (34 kB)\n",
            "#12 177.4 Collecting cachetools<6.0,>=2.0.0\n",
            "#12 177.4   Downloading cachetools-5.2.0-py3-none-any.whl (9.3 kB)\n",
            "#12 177.5 Collecting requests-oauthlib>=0.7.0\n",
            "#12 177.5   Downloading requests_oauthlib-1.3.1-py2.py3-none-any.whl (23 kB)\n",
            "#12 177.6 Collecting importlib-metadata>=4.4\n",
            "#12 177.6   Downloading importlib_metadata-5.0.0-py3-none-any.whl (21 kB)\n",
            "#12 177.8 Collecting MarkupSafe>=2.1.1\n",
            "#12 177.8   Downloading MarkupSafe-2.1.1-cp38-cp38-manylinux_2_17_x86_64.manylinux2014_x86_64.whl (25 kB)\n",
            "#12 177.9 Collecting zipp>=0.5\n",
            "#12 177.9   Downloading zipp-3.8.1-py3-none-any.whl (5.6 kB)\n",
            "#12 178.0 Collecting pyasn1<0.5.0,>=0.4.6\n",
            "#12 178.1   Downloading pyasn1-0.4.8-py2.py3-none-any.whl (77 kB)\n",
            "#12 178.1      ━━━━━━━━━━━━━━━━━━━━━━━━━━━━━━━━━━━━━━━━ 77.1/77.1 kB 4.7 MB/s eta 0:00:00\n",
            "#12 178.1 Collecting oauthlib>=3.0.0\n",
            "#12 178.2   Downloading oauthlib-3.2.1-py3-none-any.whl (151 kB)\n",
            "#12 178.2      ━━━━━━━━━━━━━━━━━━━━━━━━━━━━━━━━━━━━━━━ 151.7/151.7 kB 9.5 MB/s eta 0:00:00\n",
            "#12 179.1 Installing collected packages: tokenizers, tensorboard-plugin-wit, SentencePiece, pyasn1, zipp, urllib3, typing-extensions, tqdm, tensorboard-data-server, sniffio, six, rsa, regex, PyYAML, pyparsing, pyDeprecate, pyasn1-modules, protobuf, oauthlib, numpy, multidict, MarkupSafe, idna, h11, fsspec, frozenlist, filelock, click, charset-normalizer, certifi, cachetools, attrs, async-timeout, absl-py, yarl, werkzeug, uvicorn, torch, requests, pydantic, packaging, importlib-metadata, grpcio, google-auth, anyio, aiosignal, torchmetrics, starlette, requests-oauthlib, markdown, huggingface-hub, aiohttp, transformers, google-auth-oauthlib, fastapi, tensorboard, pytorch_lightning\n",
            "#12 198.1 Successfully installed MarkupSafe-2.1.1 PyYAML-6.0 SentencePiece-0.1.97 absl-py-1.2.0 aiohttp-3.8.3 aiosignal-1.2.0 anyio-3.6.1 async-timeout-4.0.2 attrs-22.1.0 cachetools-5.2.0 certifi-2022.9.24 charset-normalizer-2.1.1 click-8.1.3 fastapi-0.85.0 filelock-3.8.0 frozenlist-1.3.1 fsspec-2022.8.2 google-auth-2.12.0 google-auth-oauthlib-0.4.6 grpcio-1.49.1 h11-0.14.0 huggingface-hub-0.10.0 idna-3.4 importlib-metadata-5.0.0 markdown-3.4.1 multidict-6.0.2 numpy-1.23.3 oauthlib-3.2.1 packaging-21.3 protobuf-3.19.6 pyDeprecate-0.3.2 pyasn1-0.4.8 pyasn1-modules-0.2.8 pydantic-1.10.2 pyparsing-3.0.9 pytorch_lightning-1.7.7 regex-2022.9.13 requests-2.28.1 requests-oauthlib-1.3.1 rsa-4.9 six-1.16.0 sniffio-1.3.0 starlette-0.20.4 tensorboard-2.10.1 tensorboard-data-server-0.6.1 tensorboard-plugin-wit-1.8.1 tokenizers-0.12.1 torch-1.12.1 torchmetrics-0.9.3 tqdm-4.64.1 transformers-4.22.2 typing-extensions-4.3.0 urllib3-1.26.12 uvicorn-0.18.3 werkzeug-2.2.2 yarl-1.8.1 zipp-3.8.1\n",
            "#12 198.1 WARNING: Running pip as the 'root' user can result in broken permissions and conflicting behaviour with the system package manager. It is recommended to use a virtual environment instead: https://pip.pypa.io/warnings/venv\n",
            "#12 DONE 198.9s\n",
            "\n",
            "#13 [ 9/11] RUN useradd -m -s /bin/bash -u 1000 app &&     gpasswd -a app sudo &&     echo \"app:password\" | chpasswd &&     echo \"app ALL=(ALL) ALL\" >> /etc/sudoers\n",
            "#13 0.720 Adding user app to group sudo\n",
            "#13 DONE 0.8s\n",
            "\n",
            "#14 [10/11] COPY ./ /app\n",
            "#14 DONE 6.8s\n",
            "\n",
            "#15 [11/11] RUN chown -R app:app /app\n",
            "#15 DONE 77.8s\n",
            "\n",
            "#16 exporting to image\n",
            "#16 exporting layers\n",
            "#16 exporting layers 13.4s done\n",
            "#16 writing image sha256:0594e3296ff29b66f68a290c0ab90c9819d4db499292926738fbbdff98841957 done\n",
            "#16 naming to docker.io/library/test_fastapi_app done\n",
            "#16 DONE 13.4s\n",
            "\n",
            "(envi) c:\\Users\\mhsef\\Projects\\prject1\\app\\app>"
          ]
        }
      ],
      "source": [
        "\n",
        "%%cmd\n",
        "docker-compose build"
      ]
    },
    {
      "cell_type": "markdown",
      "source": [
        "### Use the following command \"docker-compose up -d\" to run the docker-compose. \n",
        "### Note that the \"-d\" is essential to release the command line. Otherwise, the docker engine will lock the notebook; hence running the next cell will no longer be possible. \n"
      ],
      "metadata": {
        "id": "rSytpNKPosN8"
      }
    },
    {
      "cell_type": "code",
      "execution_count": null,
      "metadata": {
        "id": "JdL54fh-dqj7",
        "outputId": "308f7043-b04d-4f9b-f9f7-a79389330b51"
      },
      "outputs": [
        {
          "name": "stdout",
          "output_type": "stream",
          "text": [
            "Microsoft Windows [Version 10.0.22000.978]\n",
            "(c) Microsoft Corporation. All rights reserved.\n",
            "\n",
            "(envi) c:\\Users\\mhsef\\Projects\\prject1\\app\\app>docker-compose up -d\n"
          ]
        },
        {
          "name": "stderr",
          "output_type": "stream",
          "text": [
            "Container app  Running\n",
            "Container web  Recreate\n",
            "Container web  Recreated\n",
            "Container web  Starting\n",
            "Container web  Started\n"
          ]
        },
        {
          "name": "stdout",
          "output_type": "stream",
          "text": [
            "\n",
            "(envi) c:\\Users\\mhsef\\Projects\\prject1\\app\\app>"
          ]
        }
      ],
      "source": [
        "%%cmd\n",
        "docker-compose up -d"
      ]
    },
    {
      "cell_type": "markdown",
      "metadata": {
        "id": "HKYm4MLbdqj8"
      },
      "source": [
        "### let's check available ports that we defined in docker-compose \"yaml\" main file. \n",
        "### It is apparent from the output of the command line that the app is running on the \"8000\" port. \"0.0.0.0\" is the same as \"localhost\"."
      ]
    },
    {
      "cell_type": "code",
      "execution_count": null,
      "metadata": {
        "id": "qO2kpII0dqj9",
        "outputId": "cbadf9a6-df57-4679-b483-d051bb6551d6"
      },
      "outputs": [
        {
          "name": "stdout",
          "output_type": "stream",
          "text": [
            "Microsoft Windows [Version 10.0.22000.978]\n",
            "(c) Microsoft Corporation. All rights reserved.\n",
            "\n",
            "(envi) c:\\Users\\mhsef\\Projects\\prject1\\app\\app>docker container ls --format \"table {{.ID}}\\t{{.Names}}\\t{{.Ports}}\" -a\n",
            "CONTAINER ID   NAMES     PORTS\n",
            "05f21ae597a1   web       0.0.0.0:80->80/tcp\n",
            "b4b607805232   app       0/tcp, 0.0.0.0:8000->8000/tcp\n",
            "\n",
            "(envi) c:\\Users\\mhsef\\Projects\\prject1\\app\\app>"
          ]
        }
      ],
      "source": [
        "%%cmd\n",
        "docker container ls --format \"table {{.ID}}\\t{{.Names}}\\t{{.Ports}}\" -a"
      ]
    },
    {
      "cell_type": "markdown",
      "source": [
        "### Lastly, we send a query word (The house is wonderful) to the running app and record the output. \n",
        "### Please note that the curl software (https://curl.se/download.html) must be installed on the system before running."
      ],
      "metadata": {
        "id": "TXgomDUyplBP"
      }
    },
    {
      "cell_type": "code",
      "execution_count": null,
      "metadata": {
        "id": "_HioVSl5dqj-",
        "outputId": "fbe9ebcb-335c-4528-9b66-7b75a1c05dcd"
      },
      "outputs": [
        {
          "name": "stdout",
          "output_type": "stream",
          "text": [
            "Microsoft Windows [Version 10.0.22000.978]\n",
            "(c) Microsoft Corporation. All rights reserved.\n",
            "\n",
            "(envi) c:\\Users\\mhsef\\Projects\\prject1\\app\\app>\n",
            "(envi) c:\\Users\\mhsef\\Projects\\prject1\\app\\app>curl -i -X POST -H \"Content-Type: application/json\" --data \"{\\\"WordQuery\\\": \\\"The house is wonderful\\\"}\" http://localhost:8000/add_data\n"
          ]
        },
        {
          "name": "stderr",
          "output_type": "stream",
          "text": [
            "  % Total    % Received % Xferd  Average Speed   Time    Time     Time  Current\n",
            "                                 Dload  Upload   Total   Spent    Left  Speed\n",
            "100   113  100    74  100    39    553    291 --:--:-- --:--:-- --:--:--   849\n"
          ]
        },
        {
          "name": "stdout",
          "output_type": "stream",
          "text": [
            "HTTP/1.1 200 OK\n",
            "date: Mon, 03 Oct 2022 22:17:12 GMT\n",
            "server: uvicorn\n",
            "content-length: 74\n",
            "content-type: application/json\n",
            "\n",
            "\"The house is wonderful means 👉 Das Haus ist wunderbar. 👈 in German\"\n",
            "(envi) c:\\Users\\mhsef\\Projects\\prject1\\app\\app>"
          ]
        }
      ],
      "source": [
        "%%cmd \n",
        "\n",
        "curl -i -X POST -H \"Content-Type: application/json\" --data \"{\\\"WordQuery\\\": \\\"The house is wonderful\\\"}\" http://localhost:8000/add_data"
      ]
    },
    {
      "cell_type": "markdown",
      "source": [
        "## As clear from the command line return, the model translated the word \"\"The house is wonderful as \" Das Haus ist wunderbar. \" in German. "
      ],
      "metadata": {
        "id": "WXyYt-ZBedX1"
      }
    }
  ],
  "metadata": {
    "kernelspec": {
      "display_name": "Python 3.9.12 ('envi': venv)",
      "language": "python",
      "name": "python3"
    },
    "language_info": {
      "codemirror_mode": {
        "name": "ipython",
        "version": 3
      },
      "file_extension": ".py",
      "mimetype": "text/x-python",
      "name": "python",
      "nbconvert_exporter": "python",
      "pygments_lexer": "ipython3",
      "version": "3.9.12"
    },
    "orig_nbformat": 4,
    "vscode": {
      "interpreter": {
        "hash": "239aa67650e1ac0f1a5f7f1e88e9748afc15d5ad6fe2aac9eb52bebfdc7ed58a"
      }
    },
    "colab": {
      "provenance": [],
      "toc_visible": true
    }
  },
  "nbformat": 4,
  "nbformat_minor": 0
}